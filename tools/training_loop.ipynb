{
 "cells": [
  {
   "cell_type": "code",
   "execution_count": null,
   "metadata": {},
   "outputs": [],
   "source": [
    "import os\n",
    "import torch\n",
    "import random\n",
    "import torch.nn as nn\n",
    "import torch.optim as optim\n",
    "import torch.nn.functional as F\n",
    "import matplotlib.pyplot as plt\n",
    "from torch.utils.data import Dataset\n",
    "from torchvision import datasets, transforms\n",
    "import numpy as np\n",
    "\n",
    "# variables\n",
    "SEED = 711\n",
    "DEVICE = \"cuda:0\"\n",
    "NUM_EPOCHS = 100\n",
    "BATCH_SIZE = 128\n",
    "DATA_ROOT = \"C:\\\\Users\\\\sultan.abughazal\\\\Documents\\\\Datasets\\\\ugvgpr-dataset\""
   ]
  },
  {
   "cell_type": "code",
   "execution_count": null,
   "metadata": {},
   "outputs": [],
   "source": [
    "# functions\n"
   ]
  },
  {
   "cell_type": "code",
   "execution_count": null,
   "metadata": {},
   "outputs": [],
   "source": [
    "# define the model\n",
    "\n",
    "class ModelType(nn.Module):\n",
    "    def __init__(self):\n",
    "        super().__init__()\n",
    "        self.encoder = nn.Sequential(\n",
    "            nn.Linear(511, 128),\n",
    "            nn.Tanh(),\n",
    "            nn.Linear(128, 64),\n",
    "            nn.Tanh(),\n",
    "            nn.Linear(64, 16),\n",
    "            # nn.Tanh(),\n",
    "            # nn.Linear(16, 4)\n",
    "        )\n",
    "\n",
    "        self.decoder = nn.Sequential(\n",
    "            # nn.Linear(4, 16),\n",
    "            # nn.Tanh(),\n",
    "            nn.Linear(16, 64),\n",
    "            nn.Tanh(),\n",
    "            nn.Linear(64, 128),\n",
    "            nn.Tanh(),\n",
    "            nn.Linear(128, 511),\n",
    "            nn.Tanh()\n",
    "        )\n",
    "\n",
    "    def forward(self, x):\n",
    "        encoded = self.encoder(x)\n",
    "        decoded = self.decoder(encoded)\n",
    "        return decoded\n"
   ]
  },
  {
   "cell_type": "code",
   "execution_count": null,
   "metadata": {},
   "outputs": [],
   "source": [
    "# define the dataset\n",
    "\n",
    "class DatasetType(Dataset):\n",
    "    def __init__(self, data_root, split):\n",
    "        super().__init__()\n",
    "        assert split in [\"train\", \"eval\"], \"Invalid split!\"\n",
    "        self.samples = np.load(os.path.join(data_root, f\"samples_{split}.npy\"))\n",
    "        self.split = split\n",
    "\n",
    "    def __len__(self):\n",
    "        return self.samples.shape[0]\n",
    "\n",
    "    def __getitem__(self, index):\n",
    "        sample = torch.from_numpy(self.samples[index, 1:])\n",
    "        sample = sample.type(torch.float)\n",
    "\n",
    "        sample -= sample.min()\n",
    "        sample /= sample.max()\n",
    "        sample = (sample * 2) - 1\n",
    "\n",
    "        return sample, sample"
   ]
  },
  {
   "cell_type": "code",
   "execution_count": null,
   "metadata": {},
   "outputs": [],
   "source": [
    "# define a loss function\n",
    "model = ModelType()\n",
    "model = model.to(DEVICE)\n",
    "\n",
    "criterion = nn.MSELoss()\n",
    "optimizer = torch.optim.Adam(model.parameters(), lr=.0001)"
   ]
  },
  {
   "cell_type": "code",
   "execution_count": null,
   "metadata": {},
   "outputs": [],
   "source": [
    "# train\n",
    "\n",
    "np.random.seed(SEED)\n",
    "torch.cuda.manual_seed(SEED)\n",
    "\n",
    "ds = DatasetType(DATA_ROOT, \"train\")\n",
    "data_loader = torch.utils.data.DataLoader(dataset=ds, batch_size=BATCH_SIZE, shuffle=True)\n",
    "\n",
    "outputs = []\n",
    "for epoch in range(NUM_EPOCHS):\n",
    "    for input, target in data_loader:\n",
    "        input = input.to(DEVICE)\n",
    "        target = target.to(DEVICE)\n",
    "\n",
    "        output = model(input)\n",
    "        loss = criterion(output, input)\n",
    "\n",
    "        optimizer.zero_grad()\n",
    "        loss.backward()\n",
    "        optimizer.step()\n",
    "\n",
    "    print(f'Epoch:{epoch+1:0>3}, Loss:{loss.item():.8f}')"
   ]
  },
  {
   "cell_type": "code",
   "execution_count": null,
   "metadata": {},
   "outputs": [],
   "source": [
    "# evaluate\n",
    "\n",
    "model.eval()\n",
    "ds = DatasetType(DATA_ROOT, \"eval\")\n",
    "# eval_dataloader = torch.utils.data.DataLoader(dataset=ds, batch_size=BATCH_SIZE, shuffle=True)\n",
    "# random.choices(np.arange(len(ds)), k=3)\n",
    "\n",
    "plt.figure(figsize=(25, 10))\n",
    "\n",
    "rand_idx = random.choices(np.arange(len(ds)), k=1)[0]\n",
    "input = ds[rand_idx][0].to(DEVICE)\n",
    "output = model(input)\n",
    "\n",
    "plt.plot(input.detach().cpu().numpy(), label=\"Input\")\n",
    "plt.plot(output.detach().cpu().numpy(), label=\"Reconstructed\")\n",
    "# for k in range(0, num_epochs, 4):\n",
    "#     imgs = outputs[k][1].detach().numpy()\n",
    "#     recon = outputs[k][2].detach().numpy()\n",
    "#     for i, item in enumerate(imgs):\n",
    "#         if i >= 9: break\n",
    "#         plt.subplot(2, 9, i+1)\n",
    "#         # item = item.reshape(-1, 28,28) # -> use for Autoencoder_Linear\n",
    "#         # item: 1, 28, 28\n",
    "#         plt.imshow(item[0])\n",
    "\n",
    "#     for i, item in enumerate(recon):\n",
    "#         if i >= 9: break\n",
    "#         plt.subplot(2, 9, 9+i+1) # row_length + i + 1\n",
    "#         # item = item.reshape(-1, 28,28) # -> use for Autoencoder_Linear\n",
    "#         # item: 1, 28, 28\n",
    "#         plt.imshow(item[0])"
   ]
  }
 ],
 "metadata": {
  "kernelspec": {
   "display_name": "gpr",
   "language": "python",
   "name": "python3"
  },
  "language_info": {
   "codemirror_mode": {
    "name": "ipython",
    "version": 3
   },
   "file_extension": ".py",
   "mimetype": "text/x-python",
   "name": "python",
   "nbconvert_exporter": "python",
   "pygments_lexer": "ipython3",
   "version": "3.10.14"
  }
 },
 "nbformat": 4,
 "nbformat_minor": 2
}
